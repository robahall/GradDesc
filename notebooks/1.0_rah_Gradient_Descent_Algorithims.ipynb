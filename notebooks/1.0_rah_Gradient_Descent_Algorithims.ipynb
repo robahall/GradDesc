{
 "cells": [
  {
   "cell_type": "code",
   "execution_count": 6,
   "metadata": {},
   "outputs": [],
   "source": [
    "import sys\n",
    "sys.path.append('..')\n",
    "\n",
    "from sklearn.datasets import make_regression\n",
    "\n",
    "import numpy as np\n",
    "from src import grad_desc_algos as gda\n",
    "\n",
    "\n",
    "\n",
    "import matplotlib.pyplot as plt\n",
    "from matplotlib import ticker, cm\n",
    "%matplotlib inline"
   ]
  },
  {
   "cell_type": "code",
   "execution_count": 13,
   "metadata": {},
   "outputs": [],
   "source": [
    "features, target, coef = make_regression(n_samples=1000,\n",
    "                                         n_features=2,\n",
    "                                         n_informative=2,\n",
    "                                         n_targets=1,\n",
    "                                         noise=10.0,\n",
    "                                         coef = True,\n",
    "                                         random_state=1)"
   ]
  },
  {
   "cell_type": "code",
   "execution_count": 8,
   "metadata": {},
   "outputs": [],
   "source": [
    "def gd(X, y, theta, learning_rate):\n",
    "    \"\"\"The standard gradient descent algo.\"\"\"\n",
    "    m = X.shape[0]\n",
    "    error = np.dot(X, theta) - y\n",
    "    grad = np.dot(error, X)\n",
    "    update = theta - learning_rate * (1/m) * grad\n",
    "    MSE = np.average(error ** 2)\n",
    "    return update, MSE"
   ]
  },
  {
   "cell_type": "code",
   "execution_count": 9,
   "metadata": {},
   "outputs": [],
   "source": [
    "lr = 0.01\n",
    "theta = np.array([0,0])\n",
    "epochs = 1000\n",
    "\n",
    "\n",
    "def perform_learning(X, y, theta, lr, epochs):\n",
    "    thetas = theta\n",
    "    results = np.array([0,0])\n",
    "    for i in range(epochs):\n",
    "        theta, MSE = gd(X, y, theta, lr)\n",
    "        thetas = np.vstack([thetas, theta])\n",
    "        results = np.vstack([results, np.array([i+1, MSE])])\n",
    "        \n",
    "    return thetas, results"
   ]
  },
  {
   "cell_type": "code",
   "execution_count": 16,
   "metadata": {},
   "outputs": [
    {
     "data": {
      "image/png": "[encoded data removed]",
      "text/plain": [
       "<Figure size 432x288 with 2 Axes>"
      ]
     },
     "metadata": {
      "needs_background": "light"
     },
     "output_type": "display_data"
    },
    {
     "name": "stdout",
     "output_type": "stream",
     "text": [
      "Final thetas: [16.61830202 87.98176447]\n",
      "Actual Coefficents: [16.88001901 87.91985605]\n"
     ]
    }
   ],
   "source": [
    "x = np.arange(0, 150, 1)\n",
    "y = np.arange(0, 150, 1)\n",
    "xx, yy = np.meshgrid(x, y, sparse=True)\n",
    "z = np.average((np.dot(features, np.array([xx, yy])) - target) ** 2)\n",
    "levels = [0.01, 0.05, 0.1, 0.5, 1, 5, 10, 50, 100, 500, 1000, 5000, 10000]\n",
    "\n",
    "fig, ax = plt.subplots()\n",
    "cs = ax.contourf(x,y,z, levels, locator=ticker.LogLocator(), cmap=cm.PuBu_r)\n",
    "\n",
    "epochs = 10000\n",
    "\n",
    "learing = [0.01, 0.1, 1]\n",
    "colors = ['b', 'g', 'r']\n",
    "random_start = [np.random.random(2,)*100 for i in range(3)]\n",
    "\n",
    "for lr, c, rs in zip(learing, colors,random_start):\n",
    "    theta = rs\n",
    "    thetas, MSE = perform_learning(features, target, theta, lr, epochs)\n",
    "    ax.plot(thetas[:,0],thetas[:,1], c)\n",
    "    \n",
    "cbar = fig.colorbar(cs)\n",
    "plt.xlabel('Theta 1')\n",
    "plt.ylabel('Theta 2')\n",
    "plt.show()\n",
    "print(\"Final thetas: {}\".format(thetas[-1]))\n",
    "print(\"Actual Coefficents: {}\".format(coef))"
   ]
  },
  {
   "cell_type": "code",
   "execution_count": 341,
   "metadata": {},
   "outputs": [],
   "source": [
    "## TODO: 3D plot of GD"
   ]
  },
  {
   "cell_type": "code",
   "execution_count": 331,
   "metadata": {},
   "outputs": [
    {
     "ename": "TypeError",
     "evalue": "perform_learning() missing 2 required positional arguments: 'lr' and 'epochs'",
     "output_type": "error",
     "traceback": [
      "\u001b[1;31m---------------------------------------------------------------------------\u001b[0m",
      "\u001b[1;31mTypeError\u001b[0m                                 Traceback (most recent call last)",
      "\u001b[1;32m<ipython-input-331-a497cf600a10>\u001b[0m in \u001b[0;36m<module>\u001b[1;34m\u001b[0m\n\u001b[0;32m     18\u001b[0m \u001b[1;32mfor\u001b[0m \u001b[0mlr\u001b[0m\u001b[1;33m,\u001b[0m \u001b[0mc\u001b[0m \u001b[1;32min\u001b[0m \u001b[0mi\u001b[0m\u001b[1;33m:\u001b[0m\u001b[1;33m\u001b[0m\u001b[1;33m\u001b[0m\u001b[0m\n\u001b[0;32m     19\u001b[0m     \u001b[0mtheta\u001b[0m \u001b[1;33m=\u001b[0m \u001b[0mnp\u001b[0m\u001b[1;33m.\u001b[0m\u001b[0marray\u001b[0m\u001b[1;33m(\u001b[0m\u001b[1;33m[\u001b[0m\u001b[1;36m0\u001b[0m\u001b[1;33m,\u001b[0m\u001b[1;36m1\u001b[0m\u001b[1;33m]\u001b[0m\u001b[1;33m)\u001b[0m\u001b[1;33m\u001b[0m\u001b[1;33m\u001b[0m\u001b[0m\n\u001b[1;32m---> 20\u001b[1;33m     \u001b[0mthetas\u001b[0m\u001b[1;33m,\u001b[0m \u001b[0mMSE\u001b[0m \u001b[1;33m=\u001b[0m \u001b[0mperform_learning\u001b[0m\u001b[1;33m(\u001b[0m\u001b[0mlr\u001b[0m\u001b[1;33m,\u001b[0m \u001b[0mtheta\u001b[0m\u001b[1;33m,\u001b[0m \u001b[0mepochs\u001b[0m\u001b[1;33m)\u001b[0m\u001b[1;33m\u001b[0m\u001b[1;33m\u001b[0m\u001b[0m\n\u001b[0m\u001b[0;32m     21\u001b[0m     \u001b[0max\u001b[0m\u001b[1;33m.\u001b[0m\u001b[0mplot\u001b[0m\u001b[1;33m(\u001b[0m\u001b[0mthetas\u001b[0m\u001b[1;33m[\u001b[0m\u001b[1;33m:\u001b[0m\u001b[1;33m,\u001b[0m\u001b[1;36m0\u001b[0m\u001b[1;33m]\u001b[0m\u001b[1;33m,\u001b[0m\u001b[0mthetas\u001b[0m\u001b[1;33m[\u001b[0m\u001b[1;33m:\u001b[0m\u001b[1;33m,\u001b[0m\u001b[1;36m1\u001b[0m\u001b[1;33m]\u001b[0m\u001b[1;33m,\u001b[0m \u001b[0mc\u001b[0m\u001b[1;33m)\u001b[0m\u001b[1;33m\u001b[0m\u001b[1;33m\u001b[0m\u001b[0m\n\u001b[0;32m     22\u001b[0m \u001b[1;33m\u001b[0m\u001b[0m\n",
      "\u001b[1;31mTypeError\u001b[0m: perform_learning() missing 2 required positional arguments: 'lr' and 'epochs'"
     ]
    },
    {
     "data": {
      "image/png": "[encoded data removed]",
      "text/plain": [
       "<Figure size 432x288 with 1 Axes>"
      ]
     },
     "metadata": {
      "needs_background": "light"
     },
     "output_type": "display_data"
    }
   ],
   "source": [
    "from mpl_toolkits.mplot3d import axes3d\n",
    "x = np.arange(0, 100, 1)\n",
    "y = np.arange(0, 100, 1)\n",
    "xx, yy = np.meshgrid(x, y, sparse=True)\n",
    "z = np.average((np.dot(features, np.array([xx, yy])) - target) ** 2)\n",
    "levels = [0.01, 0.05, 0.1, 0.5, 1, 5, 10, 50, 100, 500, 1000, 5000, 10000]\n",
    "\n",
    "fig, ax = plt.subplots()\n",
    "cs = ax.contourf(x,y,z, levels, locator=ticker.LogLocator(), cmap=cm.PuBu_r)\n",
    "\n",
    "theta = np.array([0,1])\n",
    "epochs = 10\n",
    "\n",
    "learing = [0.01, 0.1, 10]\n",
    "colors = ['b', 'g', 'r']\n",
    "\n",
    "\n",
    "for lr, c in i:\n",
    "    theta = np.array([0,1])\n",
    "    thetas, MSE = perform_learning(lr, theta, epochs)\n",
    "    ax.plot(thetas[:,0],thetas[:,1], c)\n",
    "    \n",
    "cbar = fig.colorbar(cs)\n",
    "plt.xlabel('Theta 1')\n",
    "plt.ylabel('Theta 2')\n",
    "plt.show()"
   ]
  },
  {
   "cell_type": "code",
   "execution_count": 296,
   "metadata": {},
   "outputs": [],
   "source": [
    "a = np.array([[1, 2],\n",
    "             [3,4]\n",
    "             ])\n",
    "b = np.array([5,6])"
   ]
  },
  {
   "cell_type": "code",
   "execution_count": 297,
   "metadata": {},
   "outputs": [
    {
     "data": {
      "text/plain": [
       "array([17, 39])"
      ]
     },
     "execution_count": 297,
     "metadata": {},
     "output_type": "execute_result"
    }
   ],
   "source": [
    "np.dot(a, b)"
   ]
  },
  {
   "cell_type": "code",
   "execution_count": null,
   "metadata": {},
   "outputs": [],
   "source": []
  }
 ],
 "metadata": {
  "kernelspec": {
   "display_name": "Python 3",
   "language": "python",
   "name": "python3"
  },
  "language_info": {
   "codemirror_mode": {
    "name": "ipython",
    "version": 3
   },
   "file_extension": ".py",
   "mimetype": "text/x-python",
   "name": "python",
   "nbconvert_exporter": "python",
   "pygments_lexer": "ipython3",
   "version": "3.7.3"
  }
 },
 "nbformat": 4,
 "nbformat_minor": 2
}
