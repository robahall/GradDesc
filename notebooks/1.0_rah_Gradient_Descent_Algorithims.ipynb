{
 "cells": [
  {
   "cell_type": "code",
   "execution_count": 144,
   "metadata": {},
   "outputs": [],
   "source": [
    "from sklearn.datasets import make_regression\n",
    "\n",
    "import numpy as np\n",
    "from src import grad_desc_algos as gda\n",
    "\n",
    "import sys\n",
    "sys.path.append('..')\n",
    "\n",
    "import matplotlib.pyplot as plt\n",
    "from matplotlib import ticker, cm\n",
    "%matplotlib inline"
   ]
  },
  {
   "cell_type": "code",
   "execution_count": 101,
   "metadata": {},
   "outputs": [],
   "source": [
    "features, target, coef = make_regression(n_samples=100,\n",
    "                                         n_features=2,\n",
    "                                         n_informative=2,\n",
    "                                         n_targets=1,\n",
    "                                         noise=0.0,\n",
    "                                         coef = True,\n",
    "                                         random_state=1)"
   ]
  },
  {
   "cell_type": "code",
   "execution_count": 104,
   "metadata": {},
   "outputs": [],
   "source": [
    "def gd(X, y, theta, learning_rate):\n",
    "    \"\"\"The standard gradient descent algo.\"\"\"\n",
    "    m = X.shape[0]\n",
    "    error = np.dot(X, theta) - y\n",
    "    grad = np.dot(error, X)\n",
    "    update = theta - learning_rate * (1/m) * grad\n",
    "    MSE = np.average(error ** 2)\n",
    "    return update, MSE"
   ]
  },
  {
   "cell_type": "code",
   "execution_count": null,
   "metadata": {},
   "outputs": [],
   "source": []
  },
  {
   "cell_type": "code",
   "execution_count": 162,
   "metadata": {},
   "outputs": [
    {
     "name": "stdout",
     "output_type": "stream",
     "text": [
      "[[ 0.          1.        ]\n",
      " [ 0.18671913  1.63665487]\n",
      " [ 0.37252485  2.26850307]\n",
      " ...\n",
      " [32.22980711 86.38772526]\n",
      " [32.23007706 86.38815566]\n",
      " [32.23034512 86.38858298]]\n",
      "[32.26809968 86.44794301]\n"
     ]
    }
   ],
   "source": [
    "lr = 0.01\n",
    "theta = np.array([0,1])\n",
    "epochs = 1000\n",
    "\n",
    "\n",
    "def perform_learning(lr, theta, epochs):\n",
    "    thetas = theta\n",
    "    results = np.array([0,0])\n",
    "    for i in range(epochs):    \n",
    "        theta, MSE = gd(features, target, theta, lr)\n",
    "        thetas = np.vstack([thetas, theta,])\n",
    "        results = np.vstack([results, np.array([i+1, MSE])])\n",
    "    return thetas, results\n",
    "\n",
    "##might be able to combine thetas and results\n",
    "print(thetas)\n",
    "print(coef)"
   ]
  },
  {
   "cell_type": "code",
   "execution_count": 159,
   "metadata": {},
   "outputs": [],
   "source": [
    "thetas, results = perform_learning(lr, theta, epochs)"
   ]
  },
  {
   "cell_type": "code",
   "execution_count": 168,
   "metadata": {},
   "outputs": [
    {
     "data": {
      "text/plain": [
       "array([[0.90092668, 0.0284135 ]])"
      ]
     },
     "execution_count": 168,
     "metadata": {},
     "output_type": "execute_result"
    }
   ],
   "source": [
    "test = np.random.rand(1,2)\n",
    "test"
   ]
  },
  {
   "cell_type": "code",
   "execution_count": 169,
   "metadata": {},
   "outputs": [
    {
     "data": {
      "text/plain": [
       "array([[90.09266829,  2.84134957]])"
      ]
     },
     "execution_count": 169,
     "metadata": {},
     "output_type": "execute_result"
    }
   ],
   "source": [
    "test * 100"
   ]
  },
  {
   "cell_type": "code",
   "execution_count": null,
   "metadata": {},
   "outputs": [],
   "source": []
  },
  {
   "cell_type": "code",
   "execution_count": 137,
   "metadata": {},
   "outputs": [],
   "source": [
    "x = np.arange(0, 100, 1)\n",
    "y = np.arange(0, 100, 1)"
   ]
  },
  {
   "cell_type": "code",
   "execution_count": 138,
   "metadata": {},
   "outputs": [],
   "source": []
  },
  {
   "cell_type": "code",
   "execution_count": 141,
   "metadata": {},
   "outputs": [],
   "source": [
    "z = np.average((np.dot(features, np.array([xx, yy])) - target) ** 2)\n",
    "levels = [0.001, 0.01, 0.1, 1, 10, 100, 1000]"
   ]
  },
  {
   "cell_type": "code",
   "execution_count": 156,
   "metadata": {},
   "outputs": [
    {
     "data": {
      "image/png": "[encoded data removed]",
      "text/plain": [
       "<Figure size 432x288 with 2 Axes>"
      ]
     },
     "metadata": {
      "needs_background": "light"
     },
     "output_type": "display_data"
    }
   ],
   "source": [
    "fig, ax = plt.subplots()\n",
    "cs = ax.contourf(x,y,z, levels, locator=ticker.LogLocator(), cmap=cm.PuBu_r)\n",
    "plot1 = ax.plot(thetas[:,0],thetas[:,1],'ro')\n",
    "plot2 =\n",
    "cbar = fig.colorbar(cs)\n",
    "plt.show()"
   ]
  },
  {
   "cell_type": "code",
   "execution_count": null,
   "metadata": {},
   "outputs": [],
   "source": []
  },
  {
   "cell_type": "code",
   "execution_count": null,
   "metadata": {},
   "outputs": [],
   "source": []
  },
  {
   "cell_type": "code",
   "execution_count": null,
   "metadata": {},
   "outputs": [],
   "source": [
    "thetas, results = perform_learning(lr, theta, epochs)"
   ]
  },
  {
   "cell_type": "code",
   "execution_count": null,
   "metadata": {},
   "outputs": [],
   "source": [
    "test = np.random.rand(1,2)*100"
   ]
  },
  {
   "cell_type": "code",
   "execution_count": 202,
   "metadata": {},
   "outputs": [
    {
     "ename": "TypeError",
     "evalue": "tuple indices must be integers or slices, not tuple",
     "output_type": "error",
     "traceback": [
      "\u001b[1;31m---------------------------------------------------------------------------\u001b[0m",
      "\u001b[1;31mTypeError\u001b[0m                                 Traceback (most recent call last)",
      "\u001b[1;32m<ipython-input-202-6bffc57004ab>\u001b[0m in \u001b[0;36m<module>\u001b[1;34m\u001b[0m\n\u001b[0;32m     16\u001b[0m     \u001b[0mtheta\u001b[0m \u001b[1;33m=\u001b[0m \u001b[0mnp\u001b[0m\u001b[1;33m.\u001b[0m\u001b[0marray\u001b[0m\u001b[1;33m(\u001b[0m\u001b[1;33m[\u001b[0m\u001b[1;36m0\u001b[0m\u001b[1;33m,\u001b[0m\u001b[1;36m1\u001b[0m\u001b[1;33m]\u001b[0m\u001b[1;33m)\u001b[0m\u001b[1;33m\u001b[0m\u001b[1;33m\u001b[0m\u001b[0m\n\u001b[0;32m     17\u001b[0m     \u001b[0mthetas\u001b[0m \u001b[1;33m=\u001b[0m \u001b[0mperform_learning\u001b[0m\u001b[1;33m(\u001b[0m\u001b[0mlr\u001b[0m\u001b[1;33m,\u001b[0m \u001b[0mtheta\u001b[0m\u001b[1;33m,\u001b[0m \u001b[0mepochs\u001b[0m\u001b[1;33m)\u001b[0m\u001b[1;33m\u001b[0m\u001b[1;33m\u001b[0m\u001b[0m\n\u001b[1;32m---> 18\u001b[1;33m     \u001b[0max\u001b[0m\u001b[1;33m.\u001b[0m\u001b[0mplot\u001b[0m\u001b[1;33m(\u001b[0m\u001b[0mthetas\u001b[0m\u001b[1;33m[\u001b[0m\u001b[1;33m:\u001b[0m\u001b[1;33m,\u001b[0m\u001b[1;36m0\u001b[0m\u001b[1;33m]\u001b[0m\u001b[1;33m,\u001b[0m\u001b[0mthetas\u001b[0m\u001b[1;33m[\u001b[0m\u001b[1;33m:\u001b[0m\u001b[1;33m,\u001b[0m\u001b[1;36m1\u001b[0m\u001b[1;33m]\u001b[0m\u001b[1;33m,\u001b[0m \u001b[0mc\u001b[0m\u001b[1;33m)\u001b[0m\u001b[1;33m\u001b[0m\u001b[1;33m\u001b[0m\u001b[0m\n\u001b[0m\u001b[0;32m     19\u001b[0m \u001b[1;33m\u001b[0m\u001b[0m\n\u001b[0;32m     20\u001b[0m \u001b[0mcbar\u001b[0m \u001b[1;33m=\u001b[0m \u001b[0mfig\u001b[0m\u001b[1;33m.\u001b[0m\u001b[0mcolorbar\u001b[0m\u001b[1;33m(\u001b[0m\u001b[0mcs\u001b[0m\u001b[1;33m)\u001b[0m\u001b[1;33m\u001b[0m\u001b[1;33m\u001b[0m\u001b[0m\n",
      "\u001b[1;31mTypeError\u001b[0m: tuple indices must be integers or slices, not tuple"
     ]
    },
    {
     "data": {
      "image/png": "[encoded data removed]",
      "text/plain": [
       "<Figure size 432x288 with 1 Axes>"
      ]
     },
     "metadata": {
      "needs_background": "light"
     },
     "output_type": "display_data"
    }
   ],
   "source": [
    "x = np.arange(0, 100, 1)\n",
    "y = np.arange(0, 100, 1)\n",
    "xx, yy = np.meshgrid(x, y, sparse=True)\n",
    "z = np.average((np.dot(features, np.array([xx, yy])) - target) ** 2)\n",
    "levels = [0.01, 0.1, 1, 10, 100, 1000, 10000]\n",
    "\n",
    "fig, ax = plt.subplots()\n",
    "cs = ax.contourf(x,y,z, levels, locator=ticker.LogLocator(), cmap=cm.PuBu_r)\n",
    "\n",
    "theta = np.array([0,1])\n",
    "epochs = 1000\n",
    "\n",
    "i = [0.01]\n",
    "j = ['b', 'g', 'r']\n",
    "for lr, c in zip(i,j):\n",
    "    theta = np.array([0,1])\n",
    "    thetas = perform_learning(lr, theta, epochs)\n",
    "    ax.plot(thetas[:,0],thetas[:,1], c)\n",
    "    \n",
    "cbar = fig.colorbar(cs)\n",
    "plt.show()"
   ]
  },
  {
   "cell_type": "code",
   "execution_count": 206,
   "metadata": {},
   "outputs": [
    {
     "name": "stdout",
     "output_type": "stream",
     "text": [
      "(array([[ 0.        ,  1.        ],\n",
      "       [ 0.18671913,  1.63665487],\n",
      "       [ 0.37252485,  2.26850307],\n",
      "       ...,\n",
      "       [32.22980711, 86.38772526],\n",
      "       [32.23007706, 86.38815566],\n",
      "       [32.23034512, 86.38858298]]), array([[0.00000000e+00, 0.00000000e+00],\n",
      "       [1.00000000e+00, 6.04259203e+03],\n",
      "       [2.00000000e+00, 5.95487641e+03],\n",
      "       ...,\n",
      "       [9.98000000e+02, 3.67768944e-03],\n",
      "       [9.99000000e+02, 3.62550857e-03],\n",
      "       [1.00000000e+03, 3.57406810e-03]]))\n"
     ]
    }
   ],
   "source": [
    "theta = np.array([0,1])\n",
    "epochs = 1000\n",
    "\n",
    "i = [0.01]\n",
    "j = ['b', 'g', 'r']\n",
    "for lr, c in zip(i,j):\n",
    "    theta = np.array([0,1])\n",
    "    thetas = perform_learning(lr, theta, epochs)\n",
    "    print(thetas)\n",
    "    plt.plot(thetas[:,0],thetas[:,1], c)\n",
    "\n",
    "    "
   ]
  },
  {
   "cell_type": "code",
   "execution_count": null,
   "metadata": {},
   "outputs": [],
   "source": []
  },
  {
   "cell_type": "code",
   "execution_count": null,
   "metadata": {},
   "outputs": [],
   "source": [
    "\n"
   ]
  },
  {
   "cell_type": "code",
   "execution_count": null,
   "metadata": {},
   "outputs": [],
   "source": []
  }
 ],
 "metadata": {
  "kernelspec": {
   "display_name": "Python 3",
   "language": "python",
   "name": "python3"
  },
  "language_info": {
   "codemirror_mode": {
    "name": "ipython",
    "version": 3
   },
   "file_extension": ".py",
   "mimetype": "text/x-python",
   "name": "python",
   "nbconvert_exporter": "python",
   "pygments_lexer": "ipython3",
   "version": "3.7.3"
  }
 },
 "nbformat": 4,
 "nbformat_minor": 2
}
