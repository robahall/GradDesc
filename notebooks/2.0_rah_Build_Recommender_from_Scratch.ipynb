{
 "cells": [
  {
   "cell_type": "code",
   "execution_count": 4,
   "metadata": {},
   "outputs": [],
   "source": [
    "import numpy as np\n",
    "import pandas as pd\n",
    "\n",
    "from sklearn.model_selection import train_test_split"
   ]
  },
  {
   "cell_type": "code",
   "execution_count": 2,
   "metadata": {},
   "outputs": [],
   "source": [
    "### Load data and organize"
   ]
  },
  {
   "cell_type": "code",
   "execution_count": 3,
   "metadata": {},
   "outputs": [
    {
     "name": "stderr",
     "output_type": "stream",
     "text": [
      "/home/rob/anaconda3/envs/grad/lib/python3.7/site-packages/ipykernel_launcher.py:7: ParserWarning: Falling back to the 'python' engine because the 'c' engine does not support regex separators (separators > 1 char and different from '\\s+' are interpreted as regex); you can avoid this warning by specifying engine='python'.\n",
      "  import sys\n"
     ]
    },
    {
     "ename": "FileNotFoundError",
     "evalue": "[Errno 2] No such file or directory: '../data/movielens/ml-10M100K/ratings.dat'",
     "output_type": "error",
     "traceback": [
      "\u001b[0;31m---------------------------------------------------------------------------\u001b[0m",
      "\u001b[0;31mFileNotFoundError\u001b[0m                         Traceback (most recent call last)",
      "\u001b[0;32m<ipython-input-3-e93b3addc866>\u001b[0m in \u001b[0;36m<module>\u001b[0;34m\u001b[0m\n\u001b[1;32m      5\u001b[0m                                \u001b[0;34m'movie_id'\u001b[0m\u001b[0;34m,\u001b[0m\u001b[0;34m\u001b[0m\u001b[0;34m\u001b[0m\u001b[0m\n\u001b[1;32m      6\u001b[0m                                \u001b[0;34m'ratings'\u001b[0m\u001b[0;34m,\u001b[0m\u001b[0;34m\u001b[0m\u001b[0;34m\u001b[0m\u001b[0m\n\u001b[0;32m----> 7\u001b[0;31m                                \u001b[0;34m'timestamp'\u001b[0m\u001b[0;34m\u001b[0m\u001b[0;34m\u001b[0m\u001b[0m\n\u001b[0m\u001b[1;32m      8\u001b[0m                               ]\n\u001b[1;32m      9\u001b[0m                      )\n",
      "\u001b[0;32m~/anaconda3/envs/grad/lib/python3.7/site-packages/pandas/io/parsers.py\u001b[0m in \u001b[0;36mparser_f\u001b[0;34m(filepath_or_buffer, sep, delimiter, header, names, index_col, usecols, squeeze, prefix, mangle_dupe_cols, dtype, engine, converters, true_values, false_values, skipinitialspace, skiprows, skipfooter, nrows, na_values, keep_default_na, na_filter, verbose, skip_blank_lines, parse_dates, infer_datetime_format, keep_date_col, date_parser, dayfirst, iterator, chunksize, compression, thousands, decimal, lineterminator, quotechar, quoting, doublequote, escapechar, comment, encoding, dialect, tupleize_cols, error_bad_lines, warn_bad_lines, delim_whitespace, low_memory, memory_map, float_precision)\u001b[0m\n\u001b[1;32m    700\u001b[0m                     skip_blank_lines=skip_blank_lines)\n\u001b[1;32m    701\u001b[0m \u001b[0;34m\u001b[0m\u001b[0m\n\u001b[0;32m--> 702\u001b[0;31m         \u001b[0;32mreturn\u001b[0m \u001b[0m_read\u001b[0m\u001b[0;34m(\u001b[0m\u001b[0mfilepath_or_buffer\u001b[0m\u001b[0;34m,\u001b[0m \u001b[0mkwds\u001b[0m\u001b[0;34m)\u001b[0m\u001b[0;34m\u001b[0m\u001b[0;34m\u001b[0m\u001b[0m\n\u001b[0m\u001b[1;32m    703\u001b[0m \u001b[0;34m\u001b[0m\u001b[0m\n\u001b[1;32m    704\u001b[0m     \u001b[0mparser_f\u001b[0m\u001b[0;34m.\u001b[0m\u001b[0m__name__\u001b[0m \u001b[0;34m=\u001b[0m \u001b[0mname\u001b[0m\u001b[0;34m\u001b[0m\u001b[0;34m\u001b[0m\u001b[0m\n",
      "\u001b[0;32m~/anaconda3/envs/grad/lib/python3.7/site-packages/pandas/io/parsers.py\u001b[0m in \u001b[0;36m_read\u001b[0;34m(filepath_or_buffer, kwds)\u001b[0m\n\u001b[1;32m    427\u001b[0m \u001b[0;34m\u001b[0m\u001b[0m\n\u001b[1;32m    428\u001b[0m     \u001b[0;31m# Create the parser.\u001b[0m\u001b[0;34m\u001b[0m\u001b[0;34m\u001b[0m\u001b[0;34m\u001b[0m\u001b[0m\n\u001b[0;32m--> 429\u001b[0;31m     \u001b[0mparser\u001b[0m \u001b[0;34m=\u001b[0m \u001b[0mTextFileReader\u001b[0m\u001b[0;34m(\u001b[0m\u001b[0mfilepath_or_buffer\u001b[0m\u001b[0;34m,\u001b[0m \u001b[0;34m**\u001b[0m\u001b[0mkwds\u001b[0m\u001b[0;34m)\u001b[0m\u001b[0;34m\u001b[0m\u001b[0;34m\u001b[0m\u001b[0m\n\u001b[0m\u001b[1;32m    430\u001b[0m \u001b[0;34m\u001b[0m\u001b[0m\n\u001b[1;32m    431\u001b[0m     \u001b[0;32mif\u001b[0m \u001b[0mchunksize\u001b[0m \u001b[0;32mor\u001b[0m \u001b[0miterator\u001b[0m\u001b[0;34m:\u001b[0m\u001b[0;34m\u001b[0m\u001b[0;34m\u001b[0m\u001b[0m\n",
      "\u001b[0;32m~/anaconda3/envs/grad/lib/python3.7/site-packages/pandas/io/parsers.py\u001b[0m in \u001b[0;36m__init__\u001b[0;34m(self, f, engine, **kwds)\u001b[0m\n\u001b[1;32m    893\u001b[0m             \u001b[0mself\u001b[0m\u001b[0;34m.\u001b[0m\u001b[0moptions\u001b[0m\u001b[0;34m[\u001b[0m\u001b[0;34m'has_index_names'\u001b[0m\u001b[0;34m]\u001b[0m \u001b[0;34m=\u001b[0m \u001b[0mkwds\u001b[0m\u001b[0;34m[\u001b[0m\u001b[0;34m'has_index_names'\u001b[0m\u001b[0;34m]\u001b[0m\u001b[0;34m\u001b[0m\u001b[0;34m\u001b[0m\u001b[0m\n\u001b[1;32m    894\u001b[0m \u001b[0;34m\u001b[0m\u001b[0m\n\u001b[0;32m--> 895\u001b[0;31m         \u001b[0mself\u001b[0m\u001b[0;34m.\u001b[0m\u001b[0m_make_engine\u001b[0m\u001b[0;34m(\u001b[0m\u001b[0mself\u001b[0m\u001b[0;34m.\u001b[0m\u001b[0mengine\u001b[0m\u001b[0;34m)\u001b[0m\u001b[0;34m\u001b[0m\u001b[0;34m\u001b[0m\u001b[0m\n\u001b[0m\u001b[1;32m    896\u001b[0m \u001b[0;34m\u001b[0m\u001b[0m\n\u001b[1;32m    897\u001b[0m     \u001b[0;32mdef\u001b[0m \u001b[0mclose\u001b[0m\u001b[0;34m(\u001b[0m\u001b[0mself\u001b[0m\u001b[0;34m)\u001b[0m\u001b[0;34m:\u001b[0m\u001b[0;34m\u001b[0m\u001b[0;34m\u001b[0m\u001b[0m\n",
      "\u001b[0;32m~/anaconda3/envs/grad/lib/python3.7/site-packages/pandas/io/parsers.py\u001b[0m in \u001b[0;36m_make_engine\u001b[0;34m(self, engine)\u001b[0m\n\u001b[1;32m   1130\u001b[0m                                  ' \"c\", \"python\", or' ' \"python-fwf\")'.format(\n\u001b[1;32m   1131\u001b[0m                                      engine=engine))\n\u001b[0;32m-> 1132\u001b[0;31m             \u001b[0mself\u001b[0m\u001b[0;34m.\u001b[0m\u001b[0m_engine\u001b[0m \u001b[0;34m=\u001b[0m \u001b[0mklass\u001b[0m\u001b[0;34m(\u001b[0m\u001b[0mself\u001b[0m\u001b[0;34m.\u001b[0m\u001b[0mf\u001b[0m\u001b[0;34m,\u001b[0m \u001b[0;34m**\u001b[0m\u001b[0mself\u001b[0m\u001b[0;34m.\u001b[0m\u001b[0moptions\u001b[0m\u001b[0;34m)\u001b[0m\u001b[0;34m\u001b[0m\u001b[0;34m\u001b[0m\u001b[0m\n\u001b[0m\u001b[1;32m   1133\u001b[0m \u001b[0;34m\u001b[0m\u001b[0m\n\u001b[1;32m   1134\u001b[0m     \u001b[0;32mdef\u001b[0m \u001b[0m_failover_to_python\u001b[0m\u001b[0;34m(\u001b[0m\u001b[0mself\u001b[0m\u001b[0;34m)\u001b[0m\u001b[0;34m:\u001b[0m\u001b[0;34m\u001b[0m\u001b[0;34m\u001b[0m\u001b[0m\n",
      "\u001b[0;32m~/anaconda3/envs/grad/lib/python3.7/site-packages/pandas/io/parsers.py\u001b[0m in \u001b[0;36m__init__\u001b[0;34m(self, f, **kwds)\u001b[0m\n\u001b[1;32m   2223\u001b[0m         f, handles = _get_handle(f, mode, encoding=self.encoding,\n\u001b[1;32m   2224\u001b[0m                                  \u001b[0mcompression\u001b[0m\u001b[0;34m=\u001b[0m\u001b[0mself\u001b[0m\u001b[0;34m.\u001b[0m\u001b[0mcompression\u001b[0m\u001b[0;34m,\u001b[0m\u001b[0;34m\u001b[0m\u001b[0;34m\u001b[0m\u001b[0m\n\u001b[0;32m-> 2225\u001b[0;31m                                  memory_map=self.memory_map)\n\u001b[0m\u001b[1;32m   2226\u001b[0m         \u001b[0mself\u001b[0m\u001b[0;34m.\u001b[0m\u001b[0mhandles\u001b[0m\u001b[0;34m.\u001b[0m\u001b[0mextend\u001b[0m\u001b[0;34m(\u001b[0m\u001b[0mhandles\u001b[0m\u001b[0;34m)\u001b[0m\u001b[0;34m\u001b[0m\u001b[0;34m\u001b[0m\u001b[0m\n\u001b[1;32m   2227\u001b[0m \u001b[0;34m\u001b[0m\u001b[0m\n",
      "\u001b[0;32m~/anaconda3/envs/grad/lib/python3.7/site-packages/pandas/io/common.py\u001b[0m in \u001b[0;36m_get_handle\u001b[0;34m(path_or_buf, mode, encoding, compression, memory_map, is_text)\u001b[0m\n\u001b[1;32m    425\u001b[0m         \u001b[0;32melif\u001b[0m \u001b[0mis_text\u001b[0m\u001b[0;34m:\u001b[0m\u001b[0;34m\u001b[0m\u001b[0;34m\u001b[0m\u001b[0m\n\u001b[1;32m    426\u001b[0m             \u001b[0;31m# Python 3 and no explicit encoding\u001b[0m\u001b[0;34m\u001b[0m\u001b[0;34m\u001b[0m\u001b[0;34m\u001b[0m\u001b[0m\n\u001b[0;32m--> 427\u001b[0;31m             \u001b[0mf\u001b[0m \u001b[0;34m=\u001b[0m \u001b[0mopen\u001b[0m\u001b[0;34m(\u001b[0m\u001b[0mpath_or_buf\u001b[0m\u001b[0;34m,\u001b[0m \u001b[0mmode\u001b[0m\u001b[0;34m,\u001b[0m \u001b[0merrors\u001b[0m\u001b[0;34m=\u001b[0m\u001b[0;34m'replace'\u001b[0m\u001b[0;34m,\u001b[0m \u001b[0mnewline\u001b[0m\u001b[0;34m=\u001b[0m\u001b[0;34m\"\"\u001b[0m\u001b[0;34m)\u001b[0m\u001b[0;34m\u001b[0m\u001b[0;34m\u001b[0m\u001b[0m\n\u001b[0m\u001b[1;32m    428\u001b[0m         \u001b[0;32melse\u001b[0m\u001b[0;34m:\u001b[0m\u001b[0;34m\u001b[0m\u001b[0;34m\u001b[0m\u001b[0m\n\u001b[1;32m    429\u001b[0m             \u001b[0;31m# Python 3 and binary mode\u001b[0m\u001b[0;34m\u001b[0m\u001b[0;34m\u001b[0m\u001b[0;34m\u001b[0m\u001b[0m\n",
      "\u001b[0;31mFileNotFoundError\u001b[0m: [Errno 2] No such file or directory: '../data/movielens/ml-10M100K/ratings.dat'"
     ]
    }
   ],
   "source": [
    "ratings = pd.read_csv(\"../data/movielens/ml-10M100K/ratings.dat\", \n",
    "                      sep='::', \n",
    "                      header=None, \n",
    "                      names = ['user_id', \n",
    "                               'movie_id', \n",
    "                               'ratings', \n",
    "                               'timestamp'\n",
    "                              ]\n",
    "                     )"
   ]
  },
  {
   "cell_type": "code",
   "execution_count": null,
   "metadata": {},
   "outputs": [],
   "source": [
    "ratings.head()"
   ]
  },
  {
   "cell_type": "code",
   "execution_count": 11,
   "metadata": {},
   "outputs": [
    {
     "name": "stderr",
     "output_type": "stream",
     "text": [
      "C:\\Users\\rhall\\AppData\\Local\\Continuum\\anaconda3\\envs\\graddesc\\lib\\site-packages\\ipykernel_launcher.py:6: ParserWarning: Falling back to the 'python' engine because the 'c' engine does not support regex separators (separators > 1 char and different from '\\s+' are interpreted as regex); you can avoid this warning by specifying engine='python'.\n",
      "  \n"
     ]
    }
   ],
   "source": [
    "movies = pd.read_csv(\"../data/movielens/ml-10M100K/movies.dat\", \n",
    "                      sep='::', \n",
    "                      header=None, \n",
    "                      names = ['movie_id', \n",
    "                               'title', \n",
    "                               'generes'\n",
    "                              ]\n",
    "                     )"
   ]
  },
  {
   "cell_type": "code",
   "execution_count": 18,
   "metadata": {},
   "outputs": [
    {
     "data": {
      "text/plain": [
       "movie_id                 122\n",
       "title       Boomerang (1992)\n",
       "generes       Comedy|Romance\n",
       "Name: 120, dtype: object"
      ]
     },
     "execution_count": 18,
     "metadata": {},
     "output_type": "execute_result"
    }
   ],
   "source": [
    "movies.loc[120,:]"
   ]
  },
  {
   "cell_type": "code",
   "execution_count": 13,
   "metadata": {},
   "outputs": [],
   "source": [
    "rating_movies = ratings.merge(movies[['movie_id', 'title']])"
   ]
  },
  {
   "cell_type": "code",
   "execution_count": 14,
   "metadata": {},
   "outputs": [
    {
     "data": {
      "text/html": [
       "<div>\n",
       "<style scoped>\n",
       "    .dataframe tbody tr th:only-of-type {\n",
       "        vertical-align: middle;\n",
       "    }\n",
       "\n",
       "    .dataframe tbody tr th {\n",
       "        vertical-align: top;\n",
       "    }\n",
       "\n",
       "    .dataframe thead th {\n",
       "        text-align: right;\n",
       "    }\n",
       "</style>\n",
       "<table border=\"1\" class=\"dataframe\">\n",
       "  <thead>\n",
       "    <tr style=\"text-align: right;\">\n",
       "      <th></th>\n",
       "      <th>user_id</th>\n",
       "      <th>movie_id</th>\n",
       "      <th>ratings</th>\n",
       "      <th>timestamp</th>\n",
       "      <th>title</th>\n",
       "    </tr>\n",
       "  </thead>\n",
       "  <tbody>\n",
       "    <tr>\n",
       "      <th>0</th>\n",
       "      <td>1</td>\n",
       "      <td>122</td>\n",
       "      <td>5.0</td>\n",
       "      <td>838985046</td>\n",
       "      <td>Boomerang (1992)</td>\n",
       "    </tr>\n",
       "    <tr>\n",
       "      <th>1</th>\n",
       "      <td>139</td>\n",
       "      <td>122</td>\n",
       "      <td>3.0</td>\n",
       "      <td>974302621</td>\n",
       "      <td>Boomerang (1992)</td>\n",
       "    </tr>\n",
       "    <tr>\n",
       "      <th>2</th>\n",
       "      <td>149</td>\n",
       "      <td>122</td>\n",
       "      <td>2.5</td>\n",
       "      <td>1112342322</td>\n",
       "      <td>Boomerang (1992)</td>\n",
       "    </tr>\n",
       "    <tr>\n",
       "      <th>3</th>\n",
       "      <td>182</td>\n",
       "      <td>122</td>\n",
       "      <td>3.0</td>\n",
       "      <td>943458784</td>\n",
       "      <td>Boomerang (1992)</td>\n",
       "    </tr>\n",
       "    <tr>\n",
       "      <th>4</th>\n",
       "      <td>215</td>\n",
       "      <td>122</td>\n",
       "      <td>4.5</td>\n",
       "      <td>1102493547</td>\n",
       "      <td>Boomerang (1992)</td>\n",
       "    </tr>\n",
       "  </tbody>\n",
       "</table>\n",
       "</div>"
      ],
      "text/plain": [
       "   user_id  movie_id  ratings   timestamp             title\n",
       "0        1       122      5.0   838985046  Boomerang (1992)\n",
       "1      139       122      3.0   974302621  Boomerang (1992)\n",
       "2      149       122      2.5  1112342322  Boomerang (1992)\n",
       "3      182       122      3.0   943458784  Boomerang (1992)\n",
       "4      215       122      4.5  1102493547  Boomerang (1992)"
      ]
     },
     "execution_count": 14,
     "metadata": {},
     "output_type": "execute_result"
    }
   ],
   "source": [
    "rating_movies.head()"
   ]
  },
  {
   "cell_type": "code",
   "execution_count": 21,
   "metadata": {},
   "outputs": [],
   "source": [
    "X_train, X_test, y_train, y_test = train_test_split(ratings[['user_id', 'movie_id']], \n",
    "                                                    ratings['ratings'], \n",
    "                                                    test_size=0.33, \n",
    "                                                    random_state=42)"
   ]
  },
  {
   "cell_type": "code",
   "execution_count": 26,
   "metadata": {},
   "outputs": [],
   "source": [
    "train = X_train.merge(y_train, left_index = True, right_index = True)"
   ]
  },
  {
   "cell_type": "code",
   "execution_count": 31,
   "metadata": {},
   "outputs": [],
   "source": [
    "train = train.pivot(index = 'user_id', columns = \"movie_id\", values = \"ratings\").fillna(0).head()"
   ]
  },
  {
   "cell_type": "code",
   "execution_count": 53,
   "metadata": {},
   "outputs": [],
   "source": [
    "import sys\n",
    "sys.path.append(\"../src\")\n",
    "from grad_desc_algos import gd"
   ]
  },
  {
   "cell_type": "code",
   "execution_count": 55,
   "metadata": {},
   "outputs": [
    {
     "ename": "NameError",
     "evalue": "name 'X_train' is not defined",
     "output_type": "error",
     "traceback": [
      "\u001b[0;31m---------------------------------------------------------------------------\u001b[0m",
      "\u001b[0;31mNameError\u001b[0m                                 Traceback (most recent call last)",
      "\u001b[0;32m<ipython-input-55-f959d35b9396>\u001b[0m in \u001b[0;36m<module>\u001b[0;34m\u001b[0m\n\u001b[1;32m      1\u001b[0m \u001b[0mfactors\u001b[0m \u001b[0;34m=\u001b[0m \u001b[0;36m5\u001b[0m\u001b[0;34m\u001b[0m\u001b[0;34m\u001b[0m\u001b[0m\n\u001b[1;32m      2\u001b[0m \u001b[0;34m\u001b[0m\u001b[0m\n\u001b[0;32m----> 3\u001b[0;31m \u001b[0musers\u001b[0m \u001b[0;34m=\u001b[0m \u001b[0mnp\u001b[0m\u001b[0;34m.\u001b[0m\u001b[0mrandom\u001b[0m\u001b[0;34m.\u001b[0m\u001b[0muniform\u001b[0m\u001b[0;34m(\u001b[0m\u001b[0mlow\u001b[0m \u001b[0;34m=\u001b[0m \u001b[0;36m1\u001b[0m\u001b[0;34m,\u001b[0m \u001b[0mhigh\u001b[0m \u001b[0;34m=\u001b[0m \u001b[0;36m5\u001b[0m\u001b[0;34m,\u001b[0m \u001b[0msize\u001b[0m \u001b[0;34m=\u001b[0m \u001b[0;34m(\u001b[0m\u001b[0mX_train\u001b[0m\u001b[0;34m.\u001b[0m\u001b[0mshape\u001b[0m\u001b[0;34m,\u001b[0m \u001b[0mfactors\u001b[0m\u001b[0;34m)\u001b[0m\u001b[0;34m)\u001b[0m\u001b[0;34m\u001b[0m\u001b[0;34m\u001b[0m\u001b[0m\n\u001b[0m\u001b[1;32m      4\u001b[0m \u001b[0mmovies\u001b[0m \u001b[0;34m=\u001b[0m \u001b[0mnp\u001b[0m\u001b[0;34m.\u001b[0m\u001b[0mrandom\u001b[0m\u001b[0;34m.\u001b[0m\u001b[0muniform\u001b[0m\u001b[0;34m(\u001b[0m\u001b[0mlow\u001b[0m \u001b[0;34m=\u001b[0m \u001b[0;36m1\u001b[0m\u001b[0;34m,\u001b[0m \u001b[0mhigh\u001b[0m \u001b[0;34m=\u001b[0m \u001b[0;36m5\u001b[0m\u001b[0;34m,\u001b[0m \u001b[0msize\u001b[0m \u001b[0;34m=\u001b[0m \u001b[0;34m(\u001b[0m\u001b[0mX_train\u001b[0m\u001b[0;34m.\u001b[0m\u001b[0mshape\u001b[0m\u001b[0;34m,\u001b[0m \u001b[0mfactors\u001b[0m\u001b[0;34m)\u001b[0m\u001b[0;34m)\u001b[0m\u001b[0;34m\u001b[0m\u001b[0;34m\u001b[0m\u001b[0m\n\u001b[1;32m      5\u001b[0m \u001b[0;34m\u001b[0m\u001b[0m\n",
      "\u001b[0;31mNameError\u001b[0m: name 'X_train' is not defined"
     ]
    }
   ],
   "source": [
    "factors = 5\n",
    "\n",
    "users = np.random.uniform(low = 1, high = 5, size = (X_train.shape, factors))\n",
    "movies = np.random.uniform(low = 1, high = 5, size = (X_train.shape, factors))\n",
    "\n",
    "\n",
    "def embedding(users, movies, range_values = [0,5.5]):\n",
    "    dot_product = users * movies\n",
    "    sum_return = dot_product.sum(1)\n",
    "    within_range = 1. / (1. + np.exp(-sum_return)) + (range_values[1]/range_values[0]) + range_values[0]\n",
    "    return within_range\n",
    "\n",
    "error = embedding(users, movies) - y_train\n",
    "grad = np.dot(embedding(users, movies).transpose(), error) \n",
    "\n",
    "    \n",
    "\n"
   ]
  },
  {
   "cell_type": "code",
   "execution_count": 143,
   "metadata": {},
   "outputs": [],
   "source": [
    "## Take step back and build from simple model"
   ]
  },
  {
   "cell_type": "code",
   "execution_count": 5,
   "metadata": {},
   "outputs": [],
   "source": [
    "collab_filter_test = np.random.random((20,20))*5"
   ]
  },
  {
   "cell_type": "code",
   "execution_count": 6,
   "metadata": {},
   "outputs": [
    {
     "data": {
      "text/plain": [
       "array([[4.21791803e+00, 3.16337844e+00, 3.93045925e+00, 9.17643902e-01,\n",
       "        1.68319697e+00, 3.97121476e+00, 3.89068029e+00, 2.59513935e+00,\n",
       "        2.61586360e+00, 1.53423832e+00, 7.18398100e-01, 3.36170374e+00,\n",
       "        4.02770444e+00, 3.39432549e+00, 3.56418578e+00, 2.20910662e+00,\n",
       "        1.09685912e+00, 5.10928887e-01, 1.60270801e+00, 4.73603621e+00],\n",
       "       [1.02884168e-01, 2.18872444e+00, 3.57034395e+00, 1.89377826e-01,\n",
       "        2.94035240e+00, 3.93755694e-01, 1.05732386e+00, 4.20015406e+00,\n",
       "        2.01719956e+00, 3.82956048e+00, 2.11435602e+00, 1.65251281e+00,\n",
       "        3.05078503e+00, 1.71572656e+00, 1.94853225e+00, 5.16763708e-01,\n",
       "        6.84772150e-02, 4.21214040e-01, 7.01279140e-01, 4.87191911e+00],\n",
       "       [4.19145779e+00, 3.43864004e+00, 4.18803507e+00, 1.28469535e+00,\n",
       "        2.85756152e+00, 1.18217123e+00, 1.06278347e+00, 4.61969156e+00,\n",
       "        3.19972295e+00, 8.56935097e-01, 6.31536364e-01, 2.89094388e+00,\n",
       "        1.48634759e+00, 4.65388914e+00, 3.40678685e+00, 3.90025205e+00,\n",
       "        2.82226950e+00, 7.56468592e-01, 1.29270422e+00, 3.40215356e+00],\n",
       "       [3.84003721e+00, 1.88354016e-01, 1.10562490e+00, 3.74359288e+00,\n",
       "        1.64272974e+00, 4.88028540e+00, 3.78836194e+00, 2.53679942e+00,\n",
       "        2.00223939e-01, 4.89325614e+00, 3.41932415e+00, 3.58319414e+00,\n",
       "        2.44992864e+00, 4.89636421e+00, 2.24540447e+00, 4.22147744e+00,\n",
       "        3.25798926e+00, 4.12639805e+00, 3.58740430e+00, 3.18967180e+00],\n",
       "       [2.45043876e+00, 3.98771842e+00, 2.44218897e+00, 3.97724348e+00,\n",
       "        2.77644531e+00, 2.92603303e+00, 4.64988096e+00, 2.21701025e+00,\n",
       "        4.57001424e+00, 1.17918389e+00, 3.59102003e+00, 4.30417912e+00,\n",
       "        4.09684602e+00, 1.10702258e-01, 7.87571851e-01, 3.77353471e+00,\n",
       "        4.89421125e+00, 4.82656366e+00, 4.96778475e-01, 4.79893211e+00],\n",
       "       [1.83521799e+00, 3.25759562e+00, 1.39346323e+00, 2.17731820e+00,\n",
       "        1.82137545e+00, 4.44585204e-01, 1.99461174e+00, 1.86767109e+00,\n",
       "        2.30950912e+00, 3.40420033e+00, 3.50167591e+00, 3.29077362e+00,\n",
       "        1.17466571e+00, 2.68417370e+00, 2.81974234e+00, 3.02790253e+00,\n",
       "        2.44305069e+00, 4.02082572e+00, 2.72109042e+00, 3.67004144e+00],\n",
       "       [1.18845284e+00, 4.81925635e+00, 1.20720696e+00, 2.47455427e-02,\n",
       "        1.24558080e+00, 4.21730204e+00, 9.12054334e-01, 1.68745395e+00,\n",
       "        1.37801800e+00, 2.79559014e+00, 4.68389184e+00, 3.22970640e+00,\n",
       "        3.10596469e+00, 9.82444684e-01, 2.64715094e+00, 2.93874828e+00,\n",
       "        1.95597468e+00, 3.64628604e+00, 2.40645015e+00, 6.79086052e-01],\n",
       "       [2.53781823e+00, 2.98820800e+00, 2.18592752e+00, 2.75740275e+00,\n",
       "        2.78126460e+00, 3.68020856e-04, 1.35072153e-02, 1.55228661e+00,\n",
       "        2.94081192e-03, 3.15574692e+00, 1.37949214e+00, 6.36039914e-01,\n",
       "        3.68657801e+00, 5.56393592e-02, 4.91723324e+00, 4.52302096e+00,\n",
       "        3.48104216e+00, 1.99528146e+00, 2.19163289e+00, 1.03162602e+00],\n",
       "       [1.47802194e+00, 1.36113001e+00, 1.55006837e+00, 1.25929029e+00,\n",
       "        3.53437645e+00, 2.83852969e+00, 2.09946381e+00, 4.44578095e+00,\n",
       "        4.69518262e+00, 1.63948326e+00, 4.85399973e+00, 1.44050751e+00,\n",
       "        1.22263970e+00, 4.39697760e-01, 4.37655207e+00, 1.01390597e+00,\n",
       "        7.56103595e-01, 2.42235582e+00, 1.15656588e+00, 3.61048924e+00],\n",
       "       [2.15632566e+00, 3.65177001e+00, 4.36253992e+00, 2.54934508e+00,\n",
       "        3.93442993e+00, 2.34378222e+00, 1.71639009e-01, 4.85224092e+00,\n",
       "        1.11775785e+00, 4.22123566e-01, 1.02493591e+00, 1.96769092e+00,\n",
       "        1.50671729e+00, 2.80940526e+00, 2.21563892e+00, 4.17293520e+00,\n",
       "        3.14501809e+00, 2.49906589e+00, 2.90294801e-01, 1.35092005e+00],\n",
       "       [1.53175245e+00, 8.83458282e-01, 2.01037984e+00, 4.93061034e+00,\n",
       "        2.28062644e+00, 4.13856302e-01, 4.91451738e+00, 4.33761741e+00,\n",
       "        1.39068152e+00, 1.27487613e+00, 3.70604487e-02, 1.35752854e-01,\n",
       "        4.85499443e+00, 1.56062071e+00, 3.83829999e+00, 5.12508021e-01,\n",
       "        1.39241622e+00, 1.51377035e+00, 4.45882912e+00, 4.72848434e+00],\n",
       "       [4.75018460e+00, 1.96305066e+00, 2.43601576e+00, 1.37395044e+00,\n",
       "        2.40014005e+00, 4.39000225e+00, 3.41262664e+00, 4.03472330e+00,\n",
       "        1.40878042e+00, 1.89828260e+00, 2.82472278e-01, 3.44437789e+00,\n",
       "        3.36970219e+00, 3.59388396e+00, 7.92936899e-01, 2.28621301e+00,\n",
       "        1.33964312e+00, 2.68979902e+00, 2.96444260e+00, 2.56392477e+00],\n",
       "       [3.11715879e+00, 2.55964581e+00, 7.57003705e-01, 3.96304659e+00,\n",
       "        3.32305552e+00, 4.32779841e+00, 2.45070400e+00, 3.29807715e+00,\n",
       "        1.16080276e-01, 8.28812978e-01, 1.56410210e+00, 2.22563953e+00,\n",
       "        4.79580242e+00, 3.69575273e+00, 3.45227990e+00, 4.29868449e+00,\n",
       "        4.31621423e-01, 3.70779784e+00, 1.47154139e+00, 2.26406127e+00],\n",
       "       [2.31766224e+00, 1.04013561e+00, 2.45051985e+00, 3.12836389e+00,\n",
       "        2.24625674e+00, 1.96983536e+00, 2.46660631e-01, 7.22863069e-01,\n",
       "        3.42949342e+00, 2.10776418e+00, 5.79203232e-01, 4.20788667e+00,\n",
       "        2.67090465e+00, 3.21920353e+00, 1.74674232e+00, 2.54397697e+00,\n",
       "        2.81182088e+00, 2.92160872e+00, 2.99899700e+00, 3.58313978e+00],\n",
       "       [4.17537891e+00, 2.03030744e+00, 3.30131191e+00, 1.93880454e+00,\n",
       "        4.89140400e+00, 3.63269547e+00, 4.66699506e+00, 7.41802368e-02,\n",
       "        7.45656061e-01, 9.01177212e-01, 2.16695838e+00, 3.89299416e+00,\n",
       "        2.55113578e-01, 1.98855314e+00, 3.56112926e+00, 3.37530414e-01,\n",
       "        1.39913652e+00, 1.39382434e+00, 1.98121119e+00, 1.48653915e+00],\n",
       "       [9.74128235e-01, 4.20112458e+00, 1.37920355e+00, 1.46580655e+00,\n",
       "        4.59637729e+00, 3.49661817e+00, 2.74406776e+00, 3.11625286e+00,\n",
       "        4.59378422e+00, 4.07283203e+00, 3.84411816e+00, 4.34867784e-01,\n",
       "        6.75674233e-01, 4.47323343e+00, 2.85019825e+00, 4.82650500e+00,\n",
       "        1.85778638e+00, 1.47988180e+00, 1.68521530e+00, 1.78103416e+00],\n",
       "       [3.87411626e+00, 2.13940480e+00, 3.16971362e+00, 4.30242361e+00,\n",
       "        4.85744305e+00, 9.51370961e-01, 2.19000838e+00, 3.85513604e+00,\n",
       "        5.10452140e-01, 4.66606153e+00, 3.45694089e+00, 4.18484752e+00,\n",
       "        1.52993471e+00, 1.11556257e-01, 4.86397728e+00, 2.07181907e+00,\n",
       "        1.47641847e+00, 6.28444066e-01, 1.51322751e+00, 3.42376200e+00],\n",
       "       [3.38227114e+00, 1.12640944e+00, 1.16593892e+00, 1.92164738e+00,\n",
       "        1.35194530e+00, 1.35732848e+00, 6.11343633e-01, 3.22740767e+00,\n",
       "        4.97210985e+00, 4.69662826e-01, 3.90865502e+00, 7.93800354e-01,\n",
       "        3.07362811e+00, 1.48808313e-01, 4.81763776e+00, 4.60144503e+00,\n",
       "        2.84416559e-02, 1.37929715e+00, 1.39450790e+00, 1.56951443e+00],\n",
       "       [1.84135183e+00, 1.59905146e+00, 1.52088524e+00, 2.14985932e+00,\n",
       "        7.30962218e-01, 1.74145066e+00, 1.27913910e+00, 7.39897931e-01,\n",
       "        3.20293014e+00, 1.03468218e+00, 6.35349779e-01, 5.93101415e-01,\n",
       "        1.94444734e+00, 3.54615472e+00, 2.99216483e+00, 1.01603489e+00,\n",
       "        1.15528958e-01, 4.71403610e+00, 1.18317981e+00, 1.43139370e+00],\n",
       "       [3.40074184e+00, 1.82658613e+00, 2.58820852e+00, 4.02108079e+00,\n",
       "        2.84903927e-01, 1.68120286e+00, 8.93899930e-01, 4.28026127e+00,\n",
       "        1.17009717e+00, 3.30888899e+00, 3.24391396e+00, 3.44124307e-01,\n",
       "        4.22728045e+00, 2.43882560e+00, 2.08954180e+00, 1.98032673e+00,\n",
       "        3.97492915e+00, 4.18006966e+00, 4.35752325e+00, 1.75272891e+00]])"
      ]
     },
     "execution_count": 6,
     "metadata": {},
     "output_type": "execute_result"
    }
   ],
   "source": [
    "collab_filter_test"
   ]
  },
  {
   "cell_type": "code",
   "execution_count": 7,
   "metadata": {},
   "outputs": [],
   "source": [
    "users = np.random.random((20, 4))"
   ]
  },
  {
   "cell_type": "code",
   "execution_count": 8,
   "metadata": {},
   "outputs": [],
   "source": [
    "movies = np.random.random((20,4))"
   ]
  },
  {
   "cell_type": "code",
   "execution_count": 9,
   "metadata": {},
   "outputs": [
    {
     "data": {
      "text/plain": [
       "array([[0.3398253 , 0.56562425, 0.04668423, 0.26817501],\n",
       "       [0.92821385, 0.9216384 , 0.03401308, 0.97368847],\n",
       "       [0.18001497, 0.26236406, 0.69775174, 0.42902004],\n",
       "       [0.65569343, 0.41686878, 0.11487047, 0.40495203],\n",
       "       [0.19430006, 0.68413972, 0.38348336, 0.42724225],\n",
       "       [0.17682207, 0.56257704, 0.68545782, 0.67974411],\n",
       "       [0.44387458, 0.05698586, 0.99121793, 0.02098242],\n",
       "       [0.22245526, 0.46600352, 0.26282127, 0.78842346],\n",
       "       [0.63679899, 0.78497889, 0.39678319, 0.24410133],\n",
       "       [0.84918574, 0.34059252, 0.82564295, 0.83324587],\n",
       "       [0.953117  , 0.0978346 , 0.48549535, 0.14198005],\n",
       "       [0.88689422, 0.13662138, 0.54110329, 0.08654047],\n",
       "       [0.47020518, 0.77894022, 0.22966809, 0.29978828],\n",
       "       [0.61471539, 0.46926102, 0.52306248, 0.84834404],\n",
       "       [0.97828236, 0.48411506, 0.04355314, 0.54304267],\n",
       "       [0.69328987, 0.59534315, 0.23355631, 0.42806678],\n",
       "       [0.80559655, 0.83889423, 0.89037264, 0.61638893],\n",
       "       [0.71080813, 0.24008889, 0.72202947, 0.90200192],\n",
       "       [0.56239706, 0.87614231, 0.00881219, 0.37092978],\n",
       "       [0.3589262 , 0.18524283, 0.12790143, 0.05314076]])"
      ]
     },
     "execution_count": 9,
     "metadata": {},
     "output_type": "execute_result"
    }
   ],
   "source": [
    "## Create embedding matrix for users\n",
    "users"
   ]
  },
  {
   "cell_type": "code",
   "execution_count": 10,
   "metadata": {},
   "outputs": [
    {
     "data": {
      "text/plain": [
       "array([[0.47406439, 0.83099936, 0.43023463, 0.71794878],\n",
       "       [0.42592954, 0.29472099, 0.95678581, 0.5831876 ],\n",
       "       [0.94229266, 0.59988855, 0.82877566, 0.09887316],\n",
       "       [0.9934714 , 0.49836027, 0.92178897, 0.82511234],\n",
       "       [0.31312728, 0.00622409, 0.65242888, 0.04940913],\n",
       "       [0.15667891, 0.76235452, 0.89848144, 0.86025965],\n",
       "       [0.39883193, 0.53790215, 0.63996177, 0.16945314],\n",
       "       [0.06751476, 0.24143622, 0.41757011, 0.28644029],\n",
       "       [0.04580991, 0.22958111, 0.96550021, 0.85226908],\n",
       "       [0.08710674, 0.72268759, 0.04647162, 0.10695143],\n",
       "       [0.87887563, 0.70259517, 0.21240171, 0.11063293],\n",
       "       [0.92259346, 0.99797741, 0.64782434, 0.48796577],\n",
       "       [0.78555134, 0.36089464, 0.21913005, 0.65728864],\n",
       "       [0.3229733 , 0.96689407, 0.43327176, 0.7122975 ],\n",
       "       [0.44024918, 0.62901489, 0.08695015, 0.46582323],\n",
       "       [0.24855033, 0.20164482, 0.8201239 , 0.20040375],\n",
       "       [0.0332697 , 0.77542541, 0.33093744, 0.45924153],\n",
       "       [0.64164124, 0.01892694, 0.83055169, 0.47864692],\n",
       "       [0.88685281, 0.34252872, 0.03554444, 0.27505981],\n",
       "       [0.07534906, 0.30740726, 0.04631884, 0.20160651]])"
      ]
     },
     "execution_count": 10,
     "metadata": {},
     "output_type": "execute_result"
    }
   ],
   "source": [
    "## Create embedding matrix for movies\n",
    "movies"
   ]
  },
  {
   "cell_type": "code",
   "execution_count": null,
   "metadata": {},
   "outputs": [],
   "source": []
  },
  {
   "cell_type": "code",
   "execution_count": 38,
   "metadata": {},
   "outputs": [],
   "source": [
    "dot = users *  movies"
   ]
  },
  {
   "cell_type": "code",
   "execution_count": 39,
   "metadata": {},
   "outputs": [
    {
     "data": {
      "text/plain": [
       "array([[1.61099071e-01, 4.70033386e-01, 2.00851725e-02, 1.92535919e-01],\n",
       "       [3.95353694e-01, 2.71626186e-01, 3.25432316e-02, 5.67843044e-01],\n",
       "       [1.69626784e-01, 1.57389198e-01, 5.78279665e-01, 4.24185683e-02],\n",
       "       [6.51412673e-01, 2.07750841e-01, 1.05886329e-01, 3.34130918e-01],\n",
       "       [6.08406515e-02, 4.25814762e-03, 2.50195618e-01, 2.11096664e-02],\n",
       "       [2.77042899e-02, 4.28883146e-01, 6.15871129e-01, 5.84756430e-01],\n",
       "       [1.77031353e-01, 3.06528179e-02, 6.34341586e-01, 3.55553673e-03],\n",
       "       [1.50190142e-02, 1.12510129e-01, 1.09746307e-01, 2.25836245e-01],\n",
       "       [2.91717061e-02, 1.80216322e-01, 3.83094256e-01, 2.08040018e-01],\n",
       "       [7.39698043e-02, 2.46141992e-01, 3.83689630e-02, 8.91168362e-02],\n",
       "       [8.37671302e-01, 6.87381196e-02, 1.03120041e-01, 1.57076689e-02],\n",
       "       [8.18242808e-01, 1.36345052e-01, 3.50539879e-01, 4.22287888e-02],\n",
       "       [3.69370305e-01, 2.81115348e-01, 5.03271809e-02, 1.97047433e-01],\n",
       "       [1.98536656e-01, 4.53725701e-01, 2.26628199e-01, 6.04273335e-01],\n",
       "       [4.30688010e-01, 3.04515582e-01, 3.78695192e-03, 2.52961890e-01],\n",
       "       [1.72317426e-01, 1.20047861e-01, 1.91545110e-01, 8.57861902e-02],\n",
       "       [2.68019591e-02, 6.50499908e-01, 2.94657644e-01, 2.83071396e-01],\n",
       "       [4.56083807e-01, 4.54414752e-03, 5.99682797e-01, 4.31740441e-01],\n",
       "       [4.98763413e-01, 3.00103904e-01, 3.13224271e-04, 1.02027875e-01],\n",
       "       [2.70447525e-02, 5.69449928e-02, 5.92424625e-03, 1.07135225e-02]])"
      ]
     },
     "execution_count": 39,
     "metadata": {},
     "output_type": "execute_result"
    }
   ],
   "source": [
    "dot"
   ]
  },
  {
   "cell_type": "code",
   "execution_count": null,
   "metadata": {},
   "outputs": [],
   "source": []
  },
  {
   "cell_type": "code",
   "execution_count": null,
   "metadata": {},
   "outputs": [],
   "source": []
  },
  {
   "cell_type": "code",
   "execution_count": null,
   "metadata": {},
   "outputs": [],
   "source": []
  },
  {
   "cell_type": "code",
   "execution_count": null,
   "metadata": {},
   "outputs": [],
   "source": []
  },
  {
   "cell_type": "code",
   "execution_count": 45,
   "metadata": {},
   "outputs": [],
   "source": [
    "estimated = dot.sum(1) ## Sum over rows. Don't lose track that these correspond to a matrix that is users, movies, review. "
   ]
  },
  {
   "cell_type": "code",
   "execution_count": null,
   "metadata": {},
   "outputs": [],
   "source": []
  },
  {
   "cell_type": "code",
   "execution_count": 46,
   "metadata": {},
   "outputs": [
    {
     "data": {
      "text/plain": [
       "array([0.69925517, 0.78029154, 0.72065526, 0.78569707, 0.58331677,\n",
       "       0.83986379, 0.6996394 , 0.6137521 , 0.6900862 , 0.61006789,\n",
       "       0.73599147, 0.79369712, 0.71050959, 0.81504999, 0.72947339,\n",
       "       0.63869316, 0.77816952, 0.81638595, 0.71119777, 0.52513567])"
      ]
     },
     "execution_count": 46,
     "metadata": {},
     "output_type": "execute_result"
    }
   ],
   "source": [
    "sigm = 1. / (1. + np.exp(-estimated))\n",
    "sigm "
   ]
  },
  {
   "cell_type": "code",
   "execution_count": 47,
   "metadata": {},
   "outputs": [],
   "source": [
    "sigm = sigm * (5.5-0) + 0"
   ]
  },
  {
   "cell_type": "code",
   "execution_count": 48,
   "metadata": {},
   "outputs": [
    {
     "data": {
      "text/plain": [
       "array([3.84590342, 4.29160349, 3.96360391, 4.32133391, 3.20824223,\n",
       "       4.61925087, 3.84801669, 3.37563653, 3.79547407, 3.35537339,\n",
       "       4.0479531 , 4.36533414, 3.90780274, 4.48277496, 4.01210366,\n",
       "       3.51281239, 4.27993236, 4.4901227 , 3.91158773, 2.8882462 ])"
      ]
     },
     "execution_count": 48,
     "metadata": {},
     "output_type": "execute_result"
    }
   ],
   "source": [
    "sigm "
   ]
  },
  {
   "cell_type": "code",
   "execution_count": null,
   "metadata": {},
   "outputs": [],
   "source": []
  },
  {
   "cell_type": "markdown",
   "metadata": {},
   "source": [
    "## Figure out forward from fastai"
   ]
  },
  {
   "cell_type": "markdown",
   "metadata": {},
   "source": [
    "https://github.com/hiromis/notes/blob/master/Lesson4.md"
   ]
  },
  {
   "cell_type": "markdown",
   "metadata": {},
   "source": [
    "https://github.com/hiromis/notes/blob/master/Lesson5.md"
   ]
  },
  {
   "cell_type": "code",
   "execution_count": null,
   "metadata": {},
   "outputs": [],
   "source": []
  },
  {
   "cell_type": "code",
   "execution_count": null,
   "metadata": {},
   "outputs": [],
   "source": []
  }
 ],
 "metadata": {
  "kernelspec": {
   "display_name": "Python 3",
   "language": "python",
   "name": "python3"
  },
  "language_info": {
   "codemirror_mode": {
    "name": "ipython",
    "version": 3
   },
   "file_extension": ".py",
   "mimetype": "text/x-python",
   "name": "python",
   "nbconvert_exporter": "python",
   "pygments_lexer": "ipython3",
   "version": "3.7.3"
  }
 },
 "nbformat": 4,
 "nbformat_minor": 2
}
