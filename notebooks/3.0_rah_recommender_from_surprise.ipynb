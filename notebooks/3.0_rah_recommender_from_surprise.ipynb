{
 "cells": [
  {
   "cell_type": "code",
   "execution_count": 1,
   "metadata": {},
   "outputs": [],
   "source": [
    "from surprise import SVD\n",
    "from surprise import Dataset\n",
    "from surprise.model_selection import cross_validate"
   ]
  },
  {
   "cell_type": "code",
   "execution_count": 2,
   "metadata": {},
   "outputs": [
    {
     "name": "stdout",
     "output_type": "stream",
     "text": [
      "Dataset ml-100k could not be found. Do you want to download it? [Y/n] y\n",
      "Trying to download dataset from http://files.grouplens.org/datasets/movielens/ml-100k.zip...\n",
      "Done! Dataset ml-100k has been saved to /home/rob/.surprise_data/ml-100k\n"
     ]
    }
   ],
   "source": [
    "## Load the movielens-100k dataset\n",
    "data = Dataset.load_builtin('ml-100k')"
   ]
  },
  {
   "cell_type": "code",
   "execution_count": 3,
   "metadata": {},
   "outputs": [],
   "source": [
    "# We'll use the famous SVD algorithm\n",
    "algo = SVD()"
   ]
  },
  {
   "cell_type": "code",
   "execution_count": 4,
   "metadata": {},
   "outputs": [
    {
     "name": "stdout",
     "output_type": "stream",
     "text": [
      "Evaluating RMSE, MAE of algorithm SVD on 5 split(s).\n",
      "\n",
      "                  Fold 1  Fold 2  Fold 3  Fold 4  Fold 5  Mean    Std     \n",
      "RMSE (testset)    0.9333  0.9435  0.9398  0.9356  0.9363  0.9377  0.0036  \n",
      "MAE (testset)     0.7364  0.7438  0.7409  0.7384  0.7360  0.7391  0.0029  \n",
      "Fit time          4.90    4.71    4.70    4.74    4.82    4.78    0.07    \n",
      "Test time         0.22    0.20    0.15    0.21    0.16    0.19    0.03    \n"
     ]
    },
    {
     "data": {
      "text/plain": [
       "{'test_rmse': array([0.93333595, 0.94354231, 0.93977963, 0.93556748, 0.93629791]),\n",
       " 'test_mae': array([0.73640208, 0.74378924, 0.74091771, 0.73837186, 0.73596855]),\n",
       " 'fit_time': (4.895216703414917,\n",
       "  4.713658571243286,\n",
       "  4.703837633132935,\n",
       "  4.743640899658203,\n",
       "  4.820251941680908),\n",
       " 'test_time': (0.22491025924682617,\n",
       "  0.19933772087097168,\n",
       "  0.15470099449157715,\n",
       "  0.20513653755187988,\n",
       "  0.15505218505859375)}"
      ]
     },
     "execution_count": 4,
     "metadata": {},
     "output_type": "execute_result"
    }
   ],
   "source": [
    "## Run 5-fold CV and print results\n",
    "cross_validate(algo, data, measures =['RMSE', 'MAE'], cv = 5, verbose = True)"
   ]
  },
  {
   "cell_type": "code",
   "execution_count": null,
   "metadata": {},
   "outputs": [],
   "source": []
  }
 ],
 "metadata": {
  "kernelspec": {
   "display_name": "Python 3",
   "language": "python",
   "name": "python3"
  },
  "language_info": {
   "codemirror_mode": {
    "name": "ipython",
    "version": 3
   },
   "file_extension": ".py",
   "mimetype": "text/x-python",
   "name": "python",
   "nbconvert_exporter": "python",
   "pygments_lexer": "ipython3",
   "version": "3.7.3"
  }
 },
 "nbformat": 4,
 "nbformat_minor": 2
}
